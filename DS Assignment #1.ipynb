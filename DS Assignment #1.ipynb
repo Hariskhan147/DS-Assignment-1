{
 "cells": [
  {
   "cell_type": "code",
   "execution_count": 1,
   "id": "60c6340a",
   "metadata": {},
   "outputs": [
    {
     "name": "stdout",
     "output_type": "stream",
     "text": [
      "Twinkle, twinkle, little star,\n",
      "    How I wonder what you are! \n",
      "         Up above the world so high,\n",
      "         Like a diamond in the sky \n",
      " Twinkle, twinkle, little star, \n",
      "      How I wonder what you are! \n"
     ]
    }
   ],
   "source": [
    "# 1) Write a Python program to print thefollowing string in a specific format(see the output).\n",
    "# Twinkle, twinkle, little star,\n",
    "# How I wonder what you are!\n",
    "# Up above the world so high,\n",
    "# Like a diamond in the sky. Twinkle, twinkle, little star,\n",
    "# How I wonder what you are\n",
    "print(\"Twinkle, twinkle, little star,\\n    How I wonder what you are! \\n         Up above the world so high,\\n         Like a diamond in the sky \\n Twinkle, twinkle, little star, \\n      How I wonder what you are! \")"
   ]
  },
  {
   "cell_type": "code",
   "execution_count": 2,
   "id": "bb905755",
   "metadata": {},
   "outputs": [
    {
     "name": "stdout",
     "output_type": "stream",
     "text": [
      "3.8.8\n"
     ]
    }
   ],
   "source": [
    "# 2) Write a Python program to get the Python version you are using?\n",
    "from platform import python_version\n",
    "print (python_version())"
   ]
  },
  {
   "cell_type": "code",
   "execution_count": 3,
   "id": "433cc6e8",
   "metadata": {},
   "outputs": [
    {
     "name": "stdout",
     "output_type": "stream",
     "text": [
      "Current date and time is:\n",
      "21-12-31-20:54:34\n"
     ]
    }
   ],
   "source": [
    "# 3) Write a Python program to display the current date and time.\n",
    "import datetime\n",
    "now = datetime.datetime.now()\n",
    "print(\"Current date and time is:\")\n",
    "print(now.strftime(\"%y-%m-%d-%H:%M:%S\"))\n"
   ]
  },
  {
   "cell_type": "code",
   "execution_count": 4,
   "id": "24662d98",
   "metadata": {},
   "outputs": [
    {
     "name": "stdout",
     "output_type": "stream",
     "text": [
      "Enter the radius of the circle :10\n",
      "Area of the circle is : 314.1592653589793\n"
     ]
    }
   ],
   "source": [
    "# 4) Write a Python program which accepts the radius of a circle from the user and compute\n",
    "# the area.\n",
    "import math\n",
    "radius = float(input(\"Enter the radius of the circle :\"))\n",
    "area = math.pi * radius * radius\n",
    "print(\"Area of the circle is : {0}\".format(area))"
   ]
  },
  {
   "cell_type": "code",
   "execution_count": 5,
   "id": "ae6b58d6",
   "metadata": {},
   "outputs": [
    {
     "name": "stdout",
     "output_type": "stream",
     "text": [
      "Enter your First Name:Haris\n",
      "Enter your Last Name:Khan\n",
      "Hello Khan Haris\n"
     ]
    }
   ],
   "source": [
    "# 5) Write a Python program which accepts the users first and last name and print them in\n",
    "# reverse order with a space between them.\n",
    "\n",
    "firstName = input(\"Enter your First Name:\")\n",
    "lastName = input (\"Enter your Last Name:\")\n",
    "print(\"Hello\" \" \"+ lastName + \" \" +firstName)"
   ]
  },
  {
   "cell_type": "code",
   "execution_count": 6,
   "id": "82b8fb4b",
   "metadata": {},
   "outputs": [
    {
     "name": "stdout",
     "output_type": "stream",
     "text": [
      "Enter Number :3\n",
      "Enter Number :3\n",
      "6\n"
     ]
    }
   ],
   "source": [
    "# 6. Write a python program which takes two inputs from user and print them addition\n",
    "\n",
    "num1 = int(input(\"Enter Number :\"))\n",
    "num2 = int(input(\"Enter Number :\"))\n",
    "result = num1 + num2\n",
    "print(result)"
   ]
  },
  {
   "cell_type": "code",
   "execution_count": null,
   "id": "4d2d8e84",
   "metadata": {},
   "outputs": [],
   "source": []
  }
 ],
 "metadata": {
  "kernelspec": {
   "display_name": "Python 3",
   "language": "python",
   "name": "python3"
  },
  "language_info": {
   "codemirror_mode": {
    "name": "ipython",
    "version": 3
   },
   "file_extension": ".py",
   "mimetype": "text/x-python",
   "name": "python",
   "nbconvert_exporter": "python",
   "pygments_lexer": "ipython3",
   "version": "3.8.8"
  }
 },
 "nbformat": 4,
 "nbformat_minor": 5
}
